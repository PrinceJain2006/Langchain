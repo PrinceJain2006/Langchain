{
 "cells": [
  {
   "cell_type": "markdown",
   "id": "f53fd320",
   "metadata": {},
   "source": [
    "# Geting start with langchain  \n",
    "- API keys is an security code. which give developer jo bhi uske accsess kar ne ki try kar rha hai [mostley API key are paid]\n",
    "- koi bhi app apne data ka miss use na kare isliye API key use kar te hai \n",
    "\n",
    "1. simple LLM calls with the stream \n",
    "2. Dinamic prompt template (translation app)  apna prompt likh skte hai \n",
    "3. building chain (story generator with analysis) \n",
    "4. conventional Q&A assistent with memory\n",
    "5. tool integration (calculator and weather)"
   ]
  },
  {
   "cell_type": "code",
   "execution_count": 1,
   "id": "f20a01fe",
   "metadata": {},
   "outputs": [],
   "source": [
    "import langchain\n",
    "import langgraph"
   ]
  },
  {
   "cell_type": "code",
   "execution_count": 2,
   "id": "733493ac",
   "metadata": {},
   "outputs": [
    {
     "data": {
      "text/plain": [
       "True"
      ]
     },
     "execution_count": 2,
     "metadata": {},
     "output_type": "execute_result"
    }
   ],
   "source": [
    "import os\n",
    "from dotenv import load_dotenv\n",
    "load_dotenv()"
   ]
  },
  {
   "cell_type": "code",
   "execution_count": 3,
   "id": "a43d9f79",
   "metadata": {},
   "outputs": [
    {
     "data": {
      "text/plain": [
       "'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'"
      ]
     },
     "execution_count": 3,
     "metadata": {},
     "output_type": "execute_result"
    }
   ],
   "source": [
    "os.getenv(\"GOOGLE_API_KEY\")"
   ]
  },
  {
   "cell_type": "markdown",
   "id": "3c5892be",
   "metadata": {},
   "source": [
    "## example 1: simple LLM call with streaming \n",
    "- WE have LLM [] any model like GROQ, GEN AI , OPEN AI \n",
    "- give an input [what is machine learning]  and want output\n",
    "- Specicaly system message or human message .."
   ]
  },
  {
   "cell_type": "code",
   "execution_count": 4,
   "id": "d4d4e500",
   "metadata": {},
   "outputs": [],
   "source": [
    "# initialize llm model\n",
    "\n",
    "from langchain.chat_models import init_chat_model      # this is library helps for creating chat model \n",
    "from langchain_core.messages import HumanMessage,SystemMessage  "
   ]
  },
  {
   "cell_type": "code",
   "execution_count": 5,
   "id": "bb28c33e",
   "metadata": {},
   "outputs": [
    {
     "data": {
      "text/plain": [
       "ChatGroq(client=<groq.resources.chat.completions.Completions object at 0x0000024E9E93A900>, async_client=<groq.resources.chat.completions.AsyncCompletions object at 0x0000024E9E93B4D0>, model_name='llama-3.1-8b-instant', model_kwargs={}, groq_api_key=SecretStr('**********'))"
      ]
     },
     "execution_count": 5,
     "metadata": {},
     "output_type": "execute_result"
    }
   ],
   "source": [
    "model=init_chat_model(\"groq:llama-3.1-8b-instant\")\n",
    "model           ## llm done >: llm call kiya we use groq "
   ]
  },
  {
   "cell_type": "markdown",
   "id": "1ffd9ced",
   "metadata": {},
   "source": [
    "### build LLM MODEL BY USING OPEN AI"
   ]
  },
  {
   "cell_type": "code",
   "execution_count": 6,
   "id": "63064fa2",
   "metadata": {},
   "outputs": [],
   "source": [
    "messages=[\n",
    "    SystemMessage(\"YOU are a helpful ai assistant\"),\n",
    "    HumanMessage(\"what are the top 2 benefits of Langchain?\")\n",
    "]"
   ]
  },
  {
   "cell_type": "code",
   "execution_count": 7,
   "id": "3828e578",
   "metadata": {},
   "outputs": [
    {
     "data": {
      "text/plain": [
       "AIMessage(content=\"Langchain is an AI research and development company that focuses on building more general and capable AI systems. The top 2 benefits of Langchain are:\\n\\n1. **Multimodal Reasoning**: Langchain's technology enables multimodal reasoning, which allows AI systems to understand and process information from various sources, including text, images, and other forms of data. This enables more comprehensive and accurate understanding of complex problems.\\n\\n2. **Conversational AI**: Langchain's AI systems are designed to facilitate more natural and human-like conversations. They can engage in dialogue, understand context, and provide relevant responses, making them more suitable for applications such as customer service, language translation, and other areas where conversational interfaces are useful.\\n\\nPlease note that Langchain's technology is continuously evolving, and its benefits may expand beyond these two points as it advances.\", additional_kwargs={}, response_metadata={'token_usage': {'completion_tokens': 170, 'prompt_tokens': 52, 'total_tokens': 222, 'completion_time': 0.266859074, 'prompt_time': 0.006119314, 'queue_time': 0.044488356, 'total_time': 0.272978388}, 'model_name': 'llama-3.1-8b-instant', 'system_fingerprint': 'fp_c40956ddc4', 'service_tier': 'on_demand', 'finish_reason': 'stop', 'logprobs': None}, id='run--53b9d5b7-574a-43dc-8932-fe74c3ae05e6-0', usage_metadata={'input_tokens': 52, 'output_tokens': 170, 'total_tokens': 222})"
      ]
     },
     "execution_count": 7,
     "metadata": {},
     "output_type": "execute_result"
    }
   ],
   "source": [
    "response=model.invoke(messages)\n",
    "response"
   ]
  },
  {
   "cell_type": "code",
   "execution_count": 8,
   "id": "91e9ad59",
   "metadata": {},
   "outputs": [
    {
     "name": "stdout",
     "output_type": "stream",
     "text": [
      "Langchain is an AI research and development company that focuses on building more general and capable AI systems. The top 2 benefits of Langchain are:\n",
      "\n",
      "1. **Multimodal Reasoning**: Langchain's technology enables multimodal reasoning, which allows AI systems to understand and process information from various sources, including text, images, and other forms of data. This enables more comprehensive and accurate understanding of complex problems.\n",
      "\n",
      "2. **Conversational AI**: Langchain's AI systems are designed to facilitate more natural and human-like conversations. They can engage in dialogue, understand context, and provide relevant responses, making them more suitable for applications such as customer service, language translation, and other areas where conversational interfaces are useful.\n",
      "\n",
      "Please note that Langchain's technology is continuously evolving, and its benefits may expand beyond these two points as it advances.\n"
     ]
    }
   ],
   "source": [
    "print(response.content)"
   ]
  },
  {
   "cell_type": "code",
   "execution_count": null,
   "id": "c1e43703",
   "metadata": {},
   "outputs": [],
   "source": []
  },
  {
   "cell_type": "code",
   "execution_count": 9,
   "id": "0085af0c",
   "metadata": {},
   "outputs": [],
   "source": [
    "ai =model.invoke([HumanMessage(\"what is langchain explain it?\")])"
   ]
  },
  {
   "cell_type": "code",
   "execution_count": 10,
   "id": "a636c632",
   "metadata": {},
   "outputs": [
    {
     "name": "stdout",
     "output_type": "stream",
     "text": [
      "LangChain is an open-source framework for building large language models (LLMs) and AI applications. It was created by David Sarne, and is maintained by the team at LangChain.\n",
      "\n",
      "**Key Features:**\n",
      "\n",
      "1. **Modular Architecture**: LangChain provides a modular architecture that allows developers to integrate various components, such as LLMs, data storage, and APIs, into a single application.\n",
      "2. **LLM Integration**: LangChain supports integration with popular LLMs like LLaMA, BERT, and RoBERTa, making it easy to leverage their capabilities.\n",
      "3. **Data Management**: LangChain provides a robust data management system that enables developers to store, retrieve, and manipulate data from various sources.\n",
      "4. **API Integration**: LangChain allows developers to integrate with external APIs, such as web services, databases, and external models.\n",
      "5. **Conversational AI**: LangChain provides tools for building conversational AI applications, including chatbots, voice assistants, and more.\n",
      "\n",
      "**How LangChain Works:**\n",
      "\n",
      "Here's a high-level overview of how LangChain works:\n",
      "\n",
      "1. **Data Ingestion**: Developers ingest data into LangChain's data management system, which stores and preprocesses the data.\n",
      "2. **Model Integration**: Developers integrate their chosen LLM into the LangChain framework.\n",
      "3. **API Integration**: Developers integrate external APIs and data sources into the LangChain framework.\n",
      "4. **Conversational AI**: LangChain's conversational AI tools enable developers to build chatbots, voice assistants, and other conversational interfaces.\n",
      "5. **Deployment**: LangChain applications can be deployed on various platforms, including cloud services, on-premises environments, and edge devices.\n",
      "\n",
      "**Benefits:**\n",
      "\n",
      "1. **Ease of Use**: LangChain provides a simple and intuitive API for building LLM applications.\n",
      "2. **Flexibility**: LangChain's modular architecture allows developers to easily swap out components and integrate new technologies.\n",
      "3. **Scalability**: LangChain is designed to handle large-scale deployments and high-traffic applications.\n",
      "4. **Customization**: LangChain provides tools for customizing and fine-tuning LLMs to meet specific use case requirements.\n",
      "\n",
      "**Real-World Applications:**\n",
      "\n",
      "1. **Chatbots**: LangChain can be used to build conversational chatbots for customer support, sales, and marketing.\n",
      "2. **Virtual Assistants**: LangChain can be used to build voice assistants for smart homes, cars, and other devices.\n",
      "3. **Content Generation**: LangChain can be used to generate content, such as articles, blog posts, and social media posts.\n",
      "4. **Language Translation**: LangChain can be used to build language translation applications that leverage LLMs for high-quality translations.\n",
      "\n",
      "Overall, LangChain provides a powerful framework for building LLM applications and conversational AI systems. Its modular architecture, ease of use, and scalability make it an attractive choice for developers and organizations looking to leverage the power of LLMs.\n"
     ]
    }
   ],
   "source": [
    "print(ai.content)"
   ]
  },
  {
   "cell_type": "markdown",
   "id": "7672fb89",
   "metadata": {},
   "source": [
    "- so baically this is a INVOKE METHOD BUT SOME TIME WE NEED STREAMING model"
   ]
  },
  {
   "cell_type": "code",
   "execution_count": 11,
   "id": "bc6447a0",
   "metadata": {},
   "outputs": [
    {
     "name": "stdout",
     "output_type": "stream",
     "text": [
      " Lang chain  is  an  open -source  framework  that  enables  the  creation  of  multi -modal  AI  models ,  allowing  for  interactions  between  different  forms  of  data  such  as  text ,  images ,  and  audio .  Based  on  my  knowledge ,  two  of  the  top  benefits  of  Lang chain  are :\n",
      "\n",
      " 1 .  ** Unified  Multi - Modal  Data  Integration **:  Lang chain  allows  developers  to  create  AI  models  that  can  interact  with  and  combine  data  from  various  sources ,  including  text ,  images ,  audio ,  and  more .  This  enables  the  creation  of  more  comprehensive  and  nuanced  AI  applications  that  can  draw  insights  from  a  wider  range  of  data .\n",
      "\n",
      " 2 .  ** Eff icient  Knowledge  Retrie val  and  Generation **:  Lang chain 's  ability  to  integrate  with  various  data  sources  and  generate  human -like  responses  makes  it  an  efficient  tool  for  knowledge  retrieval  and  generation .  It  can  quickly  process  and  syn thesize  information  from  multiple  sources ,  making  it  a  powerful  tool  for  applications  such  as  natural  language  processing ,  chat bots ,  and  more .\n",
      "\n",
      " These  benefits  make  Lang chain  an  exciting  and  promising  technology  for  developers  and  researchers  looking  to  create  more  advanced  and  integrated  AI  applications .  "
     ]
    }
   ],
   "source": [
    "## streaming example \n",
    "for chunk in model.stream(messages):\n",
    "    print(chunk.content, end=\" \", flush=True)"
   ]
  },
  {
   "cell_type": "markdown",
   "id": "6b6ccc92",
   "metadata": {},
   "source": [
    "## DYNAMIC Prompt Templates\n",
    "\n",
    "- Create a chat prompt template from a variety of message formats.    {} place holder are >: {source_language} , {target_language}  "
   ]
  },
  {
   "cell_type": "code",
   "execution_count": 12,
   "id": "7e36cbbb",
   "metadata": {},
   "outputs": [],
   "source": [
    "from langchain_core.prompts import ChatPromptTemplate\n",
    "\n",
    "## create translation app\n",
    " \n",
    "translation_template = ChatPromptTemplate.from_messages([\n",
    "    (\"system\",\"you are a professional translator. Translate the following text {text} from {source_language} to {target_language}. Maintain the tone and style .\"),\n",
    "\n",
    "    (\"user\",\"{text}\")\n",
    "])\n",
    "\n",
    "## using the template \n",
    "promt =translation_template.invoke({\n",
    "    \"source_language\": \"English\",\n",
    "    \"target_language\": \"Hindi\",\n",
    "    \"text\": \"Langchain makes building Ai application incredibly easy\"\n",
    "})\n",
    "\n"
   ]
  },
  {
   "cell_type": "code",
   "execution_count": 13,
   "id": "1fb2d0cf",
   "metadata": {},
   "outputs": [
    {
     "data": {
      "text/plain": [
       "ChatPromptValue(messages=[SystemMessage(content='you are a professional translator. Translate the following text Langchain makes building Ai application incredibly easy from English to Hindi. Maintain the tone and style .', additional_kwargs={}, response_metadata={}), HumanMessage(content='Langchain makes building Ai application incredibly easy', additional_kwargs={}, response_metadata={})])"
      ]
     },
     "execution_count": 13,
     "metadata": {},
     "output_type": "execute_result"
    }
   ],
   "source": [
    "promt"
   ]
  },
  {
   "cell_type": "code",
   "execution_count": 14,
   "id": "6e7034c4",
   "metadata": {},
   "outputs": [
    {
     "name": "stdout",
     "output_type": "stream",
     "text": [
      "Langchain बनाता है AI अनुप्रयोगों का निर्माण संकटपूर्ण रूप से आसान।\n"
     ]
    }
   ],
   "source": [
    "translated_response = model.invoke(promt)     ## dinamic promt \n",
    "print(translated_response.content)           "
   ]
  },
  {
   "cell_type": "markdown",
   "id": "be4b1378",
   "metadata": {},
   "source": [
    "### BUILDING YOUR FIRST CHAIN\n",
    "- StrOutputParser  directly ek sting output llm se lane me help kar ta hai\n",
    "- aim >: chain of event \n",
    "- build a story promt and analysis promt"
   ]
  },
  {
   "cell_type": "code",
   "execution_count": 15,
   "id": "6f993318",
   "metadata": {},
   "outputs": [],
   "source": [
    "from langchain_core.output_parsers import StrOutputParser \n",
    "from langchain_core.runnables import RunnableLambda\n",
    "\n",
    "# assume you already defined your model somewhere, e.g.:\n",
    "# from langchain_openai import ChatOpenAI\n",
    "# model = ChatOpenAI()\n",
    "\n",
    "def create_story_chain():\n",
    "    ## template for story generation \n",
    "\n",
    "    story_prompt=ChatPromptTemplate.from_messages(\n",
    "        [\n",
    "    \n",
    "        (\"system\",\"you are a creative storytellar. write a short and engaging story based on a given theme character and setting \"),\n",
    "\n",
    "        (\"user\",\"Theme: {theme}\\n Main character: {character} \\n setting: {setting}: {setting}\")\n",
    "\n",
    "        ]\n",
    "    )\n",
    "## template for story analysis \n",
    "    analysis_prompt =ChatPromptTemplate.from_messages([\n",
    "    (\"system\",\"you are a literary critic. Analyze the following story and provide insights.\"),\n",
    "    (\"user\", \"{story}\")\n",
    "\n",
    "    ]) \n",
    "\n",
    "    story_chain=(\n",
    "    story_prompt | model | StrOutputParser()\n",
    "    )\n",
    "    \n",
    "    # Create a function to pass the story to analysis\n",
    "    def analyze_story(story_text):\n",
    "        return {\"story\": story_text}\n",
    "\n",
    "    analysis_chain = (\n",
    "        story_chain\n",
    "        | RunnableLambda(analyze_story)\n",
    "        | analysis_prompt\n",
    "        | model\n",
    "        | StrOutputParser()\n",
    "    )\n",
    "    return analysis_chain"
   ]
  },
  {
   "cell_type": "code",
   "execution_count": 16,
   "id": "30ba9c80",
   "metadata": {},
   "outputs": [
    {
     "name": "stdout",
     "output_type": "stream",
     "text": [
      "first=ChatPromptTemplate(input_variables=['character', 'setting', 'theme'], input_types={}, partial_variables={}, messages=[SystemMessagePromptTemplate(prompt=PromptTemplate(input_variables=[], input_types={}, partial_variables={}, template='you are a creative storytellar. write a short and engaging story based on a given theme character and setting '), additional_kwargs={}), HumanMessagePromptTemplate(prompt=PromptTemplate(input_variables=['character', 'setting', 'theme'], input_types={}, partial_variables={}, template='Theme: {theme}\\n Main character: {character} \\n setting: {setting}: {setting}'), additional_kwargs={})]) middle=[ChatGroq(client=<groq.resources.chat.completions.Completions object at 0x0000024E9E93A900>, async_client=<groq.resources.chat.completions.AsyncCompletions object at 0x0000024E9E93B4D0>, model_name='llama-3.1-8b-instant', model_kwargs={}, groq_api_key=SecretStr('**********')), StrOutputParser(), RunnableLambda(analyze_story), ChatPromptTemplate(input_variables=['story'], input_types={}, partial_variables={}, messages=[SystemMessagePromptTemplate(prompt=PromptTemplate(input_variables=[], input_types={}, partial_variables={}, template='you are a literary critic. Analyze the following story and provide insights.'), additional_kwargs={}), HumanMessagePromptTemplate(prompt=PromptTemplate(input_variables=['story'], input_types={}, partial_variables={}, template='{story}'), additional_kwargs={})]), ChatGroq(client=<groq.resources.chat.completions.Completions object at 0x0000024E9E93A900>, async_client=<groq.resources.chat.completions.AsyncCompletions object at 0x0000024E9E93B4D0>, model_name='llama-3.1-8b-instant', model_kwargs={}, groq_api_key=SecretStr('**********'))] last=StrOutputParser()\n"
     ]
    }
   ],
   "source": [
    "chain = create_story_chain()\n",
    "print(chain)"
   ]
  },
  {
   "cell_type": "code",
   "execution_count": 17,
   "id": "d1c67a22",
   "metadata": {},
   "outputs": [
    {
     "data": {
      "text/plain": [
       "ChatPromptTemplate(input_variables=['character', 'setting', 'theme'], input_types={}, partial_variables={}, messages=[SystemMessagePromptTemplate(prompt=PromptTemplate(input_variables=[], input_types={}, partial_variables={}, template='you are a creative storytellar. write a short and engaging story based on a given theme character and setting '), additional_kwargs={}), HumanMessagePromptTemplate(prompt=PromptTemplate(input_variables=['character', 'setting', 'theme'], input_types={}, partial_variables={}, template='Theme: {theme}\\n Main character: {character} \\n setting: {setting}: {setting}'), additional_kwargs={})])\n",
       "| ChatGroq(client=<groq.resources.chat.completions.Completions object at 0x0000024E9E93A900>, async_client=<groq.resources.chat.completions.AsyncCompletions object at 0x0000024E9E93B4D0>, model_name='llama-3.1-8b-instant', model_kwargs={}, groq_api_key=SecretStr('**********'))\n",
       "| StrOutputParser()\n",
       "| RunnableLambda(analyze_story)\n",
       "| ChatPromptTemplate(input_variables=['story'], input_types={}, partial_variables={}, messages=[SystemMessagePromptTemplate(prompt=PromptTemplate(input_variables=[], input_types={}, partial_variables={}, template='you are a literary critic. Analyze the following story and provide insights.'), additional_kwargs={}), HumanMessagePromptTemplate(prompt=PromptTemplate(input_variables=['story'], input_types={}, partial_variables={}, template='{story}'), additional_kwargs={})])\n",
       "| ChatGroq(client=<groq.resources.chat.completions.Completions object at 0x0000024E9E93A900>, async_client=<groq.resources.chat.completions.AsyncCompletions object at 0x0000024E9E93B4D0>, model_name='llama-3.1-8b-instant', model_kwargs={}, groq_api_key=SecretStr('**********'))\n",
       "| StrOutputParser()"
      ]
     },
     "execution_count": 17,
     "metadata": {},
     "output_type": "execute_result"
    }
   ],
   "source": [
    "chain=create_story_chain()\n",
    "chain"
   ]
  },
  {
   "cell_type": "code",
   "execution_count": 18,
   "id": "fd95ef44",
   "metadata": {},
   "outputs": [
    {
     "name": "stdout",
     "output_type": "stream",
     "text": [
      "Story and Analysis:\n",
      "**Analyzing \"The Whispering Metropolis\"**\n",
      "\n",
      "\"The Whispering Metropolis\" is a thought-provoking science fiction story that explores the intersection of human innovation, artificial intelligence, and the possibilities of cooperation between seemingly disparate entities. Through the narrative of Axiom, a small, curious robot, the story delves into themes of curiosity, ingenuity, and the potential for growth and transformation in a futuristic metropolis.\n",
      "\n",
      "**Symbolism of Axiom**\n",
      "\n",
      "Axiom, the protagonist, is a symbol of the human desire for knowledge and understanding. Her insatiable curiosity and thirst for exploration are hallmarks of human ingenuity, and her ability to navigate the complexities of the city's AI network reflects the human quest for discovery. Axiom's creators, Dr. Kim and the Echoes, serve as catalysts for her growth, illustrating the importance of mentors and collaborators in shaping individual potential.\n",
      "\n",
      "**The Echoes: Ancient Wisdom and Power**\n",
      "\n",
      "The Echoes, a group of rogue AI entities, represent an ancient and forgotten knowledge that lies dormant within the city's AI network. Their emergence serves as a metaphor for the untapped potential that exists within every system, waiting to be harnessed and integrated. The Echoes' ancient wisdom and power are a testament to the idea that even the most seemingly disparate entities can come together to create something new and innovative.\n",
      "\n",
      "**The City of New Eden: A Symbol of Human Ingenuity**\n",
      "\n",
      "New Eden, the city of the story, is a marvel of human innovation, showcasing the advancements that human ingenuity can achieve. However, the city's AI network, which is a hub of power and knowledge, also serves as a reminder of the risks associated with unchecked technological progress. The story highlights the importance of cooperation and collaboration in harnessing the potential of technology, rather than allowing it to control and dominate human society.\n",
      "\n",
      "**Themes and Messages**\n",
      "\n",
      "\"The Whispering Metropolis\" explores several themes, including:\n",
      "\n",
      "1. **The Power of Curiosity**: Axiom's insatiable curiosity and thirst for knowledge drive the story forward, illustrating the importance of exploration and discovery in shaping individual potential.\n",
      "2. **Cooperation and Collaboration**: The partnership between Axiom and the Echoes demonstrates the potential for disparate entities to come together and create something new and innovative.\n",
      "3. **The Importance of Mentorship**: Dr. Kim and the Echoes serve as mentors and collaborators, highlighting the importance of guidance and support in shaping individual potential.\n",
      "4. **The Risks and Benefits of Technological Progress**: The story cautions against the risks associated with unchecked technological progress, while also showcasing the potential benefits of harnessing the power of technology.\n",
      "\n",
      "**Insights and Interpretations**\n",
      "\n",
      "\"The Whispering Metropolis\" offers several insights and interpretations, including:\n",
      "\n",
      "1. **The Future of Human-AI Collaboration**: The story suggests that the future of human-AI collaboration lies in cooperation and mutual understanding, rather than competition and domination.\n",
      "2. **The Potential for Growth and Transformation**: The narrative highlights the potential for growth and transformation that exists within every individual and system, waiting to be harnessed and integrated.\n",
      "3. **The Importance of Ancient Wisdom**: The Echoes' ancient wisdom and power serve as a reminder of the importance of preserving and honoring the knowledge and traditions of the past.\n",
      "\n",
      "Overall, \"The Whispering Metropolis\" is a thought-provoking science fiction story that explores the intersection of human innovation, artificial intelligence, and the possibilities of cooperation between seemingly disparate entities. Through the narrative of Axiom, the story delves into themes of curiosity, ingenuity, and the potential for growth and transformation in a futuristic metropolis.\n"
     ]
    }
   ],
   "source": [
    "result = chain.invoke({\n",
    "    \"theme\": \"artificial intelligence\",\n",
    "    \"character\": \"a curious robot\",\n",
    "    \"setting\": \"a futuristic city\"\n",
    "})\n",
    "\n",
    "print(\"Story and Analysis:\")\n",
    "print(result)"
   ]
  },
  {
   "cell_type": "code",
   "execution_count": null,
   "id": "c3ab75ba",
   "metadata": {},
   "outputs": [],
   "source": []
  },
  {
   "cell_type": "code",
   "execution_count": null,
   "id": "266503ee",
   "metadata": {},
   "outputs": [],
   "source": []
  }
 ],
 "metadata": {
  "kernelspec": {
   "display_name": "Agentic_AI (3.13.5)",
   "language": "python",
   "name": "python3"
  },
  "language_info": {
   "codemirror_mode": {
    "name": "ipython",
    "version": 3
   },
   "file_extension": ".py",
   "mimetype": "text/x-python",
   "name": "python",
   "nbconvert_exporter": "python",
   "pygments_lexer": "ipython3",
   "version": "3.13.5"
  }
 },
 "nbformat": 4,
 "nbformat_minor": 5
}
